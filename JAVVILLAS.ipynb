{
  "nbformat": 4,
  "nbformat_minor": 0,
  "metadata": {
    "colab": {
      "provenance": [],
      "authorship_tag": "ABX9TyPZlsz/C+/uQ0a4vAzQT1q4",
      "include_colab_link": true
    },
    "kernelspec": {
      "name": "python3",
      "display_name": "Python 3"
    },
    "language_info": {
      "name": "python"
    }
  },
  "cells": [
    {
      "cell_type": "markdown",
      "metadata": {
        "id": "view-in-github",
        "colab_type": "text"
      },
      "source": [
        "<a href=\"https://colab.research.google.com/github/jagvgithub/LAOM/blob/main/JAVVILLAS.ipynb\" target=\"_parent\"><img src=\"https://colab.research.google.com/assets/colab-badge.svg\" alt=\"Open In Colab\"/></a>"
      ]
    },
    {
      "cell_type": "code",
      "execution_count": null,
      "metadata": {
        "id": "M21jFMuF2l7J"
      },
      "outputs": [],
      "source": []
    },
    {
      "cell_type": "markdown",
      "source": [
        "# Prueba Aplicativa Científico de datos\n",
        "## Jose Antonio Gómez Vargas"
      ],
      "metadata": {
        "id": "IKnHWyti3VNU"
      }
    },
    {
      "cell_type": "markdown",
      "source": [
        "# Punto 1:\n",
        "\n",
        "a) Identifique que hace el siguiente flujo en cada uno de los pasos y cuál es el resultado del mismo.\n",
        "Suponga que A siempre es 3."
      ],
      "metadata": {
        "id": "FlYzLq_R3tjy"
      }
    },
    {
      "cell_type": "markdown",
      "source": [
        "b) Dada una base de datos con las siguientes tablas: \"clientes\" (con columnas: id_cliente, nombre, edad)\n",
        "y \"transacciones\" (con columnas: id_compra, id_cliente, fecha, monto), escriba una consulta SQL que\n",
        "devuelva el nombre de los clientes que hayan realizado al menos dos compras en el mismo día y cuya\n",
        "edad sea mayor a 25 años."
      ],
      "metadata": {
        "id": "6PV_8vcZ4dnK"
      }
    },
    {
      "cell_type": "markdown",
      "source": [
        "WITH compras_por_dia AS\n",
        "    \n",
        "    (SELECT\n",
        "        id_cliente,\n",
        "        fecha,\n",
        "        COUNT(*) AS total_compras\n",
        "    FROM\n",
        "        transacciones\n",
        "    GROUP BY\n",
        "        id_cliente, fecha\n",
        "    HAVING\n",
        "        COUNT(*) >= 2)\n",
        "\n",
        "\n",
        "\n",
        "SELECT\n",
        "    \n",
        "    c.nombre\n",
        "\n",
        "FROM\n",
        "    \n",
        "    clientes c\n",
        "\n",
        "JOIN\n",
        "    \n",
        "    compras_por_dia cp ON c.id_cliente = cp.id_cliente\n",
        "\n",
        "WHERE\n",
        "    \n",
        "    c.edad > 25;"
      ],
      "metadata": {
        "id": "JG2XWh4N5Tk2"
      }
    },
    {
      "cell_type": "markdown",
      "source": [
        "c)\n",
        "El siguiente código de Python calcula la media aritmética de una lista de números. Identifique en que\n",
        "línea se encuentra el error y como lo solucionaría."
      ],
      "metadata": {
        "id": "aIP_tQ8V4edK"
      }
    },
    {
      "cell_type": "markdown",
      "source": [
        "Al jecutar el script que se encuentra en el documento no se encuentran problemas en la ejecución, razón por la cuál se toma la desición de optimizar la consulta en cuanto a practicidad del código y validación de formatos en los valores de entrada."
      ],
      "metadata": {
        "id": "Amtw2EdN-AkU"
      }
    },
    {
      "cell_type": "code",
      "source": [
        "\n",
        "# versión original\n",
        "\n",
        "import numpy as np\n",
        "import time\n",
        "\n",
        "datos = np.random.randint(1, 101, size=1_000_000)\n",
        "\n",
        "def calcular_media(datos):\n",
        "    suma = 0\n",
        "    for dato in datos:\n",
        "        suma += dato\n",
        "    media = suma / len(datos)\n",
        "    return media\n",
        "\n",
        "#datos = np.array([1, 2, 3, 4, 5])\n",
        "\n",
        "# Medir el tiempo de ejecución\n",
        "inicio = time.time()\n",
        "media = calcular_media(datos)\n",
        "fin = time.time()\n",
        "\n",
        "print(\"La media de los datos es:\", media)\n",
        "print(\"Tiempo de ejecución versión original:\", fin - inicio, \"segundos\")\n",
        "\n",
        "\n",
        "# versión 2\n",
        "\n",
        "\n",
        "import numpy as np\n",
        "\n",
        "def calcular_media(datos):\n",
        "    # omitir valores nulos o string\n",
        "    datos_numericos = [dato for dato in datos if isinstance(dato, (int, float)) and not np.isnan(dato)]\n",
        "\n",
        "    # Calcular la suma y la media sin necesidad de hacer un ciclo for\n",
        "    suma = sum(datos_numericos)\n",
        "    media = suma / len(datos_numericos) if datos_numericos else 0  # Evitar división por cero\n",
        "    return media\n",
        "\n",
        "# datos de ejemplo\n",
        "#datos = np.array([1, 2, 3, 4, 5, 'a', None, np.nan])\n",
        "\n",
        "inicio = time.time()\n",
        "print(f\"La media de los datos {datos} es: {calcular_media(datos)}\")\n",
        "fin = time.time()\n",
        "print(\"Tiempo de ejecución versión 2:\", fin - inicio, \"segundos\")\n",
        "\n",
        "\n",
        "# versión final\n",
        "\n",
        "def calcular_media(datos):\n",
        "    # validar la calidad de los datos sobre los cuales se calculará la medida\n",
        "    datos_numericos = [dato for dato in datos if isinstance(dato, (int, float)) and not np.isnan(dato)]\n",
        "    suma = 0\n",
        "    for dato in datos:\n",
        "        suma += dato\n",
        "    media = suma / len(datos)\n",
        "    return media\n",
        "\n",
        "# Medir el tiempo de ejecución\n",
        "inicio = time.time()\n",
        "media = calcular_media(datos)\n",
        "fin = time.time()\n",
        "# usar de f string para sitetizar la extensión del código\n",
        "print(f\"La media de los datos {datos} en la version final es: {calcular_media(datos)} y el tiempo empleado fue : {fin - inicio} segundos\")\n",
        "\n",
        "\n"
      ],
      "metadata": {
        "colab": {
          "base_uri": "https://localhost:8080/"
        },
        "id": "QztLYOC05yE3",
        "outputId": "fce3669f-d1b7-4959-a8a0-4e3f562dff3d"
      },
      "execution_count": 12,
      "outputs": [
        {
          "output_type": "stream",
          "name": "stdout",
          "text": [
            "La media de los datos es: 50.480325\n",
            "Tiempo de ejecución versión original: 0.10209918022155762 segundos\n",
            "La media de los datos [28 52 59 ... 72 16 12] es: 0\n",
            "Tiempo de ejecución versión 2: 0.31522679328918457 segundos\n",
            "La media de los datos [28 52 59 ... 72 16 12] en la version final es: 50.480325 y el tiempo empleado fue : 0.4461245536804199 segundos\n"
          ]
        }
      ]
    },
    {
      "cell_type": "markdown",
      "source": [
        "# Punto 2:\n",
        "\n",
        "Realizar un modelo que estime la probabilidad de que un cliente acepte una tarjeta de crédito del\n",
        "Banco. Para ello deberá utilizar los dos conjuntos de datos `bd_tc_test.csv` y `bd_tc_train.csv`. Estas bases\n",
        "contienen información sociodemográfica y financiera del cliente, variables de negocio y algunas variables\n",
        "macroeconómicas externas."
      ],
      "metadata": {
        "id": "sSMGmVna4P1L"
      }
    }
  ]
}