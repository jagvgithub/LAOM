{
  "nbformat": 4,
  "nbformat_minor": 0,
  "metadata": {
    "colab": {
      "provenance": [],
      "authorship_tag": "ABX9TyPbU+KRGq2fyJ4dzbe7pK1T",
      "include_colab_link": true
    },
    "kernelspec": {
      "name": "python3",
      "display_name": "Python 3"
    },
    "language_info": {
      "name": "python"
    }
  },
  "cells": [
    {
      "cell_type": "markdown",
      "metadata": {
        "id": "view-in-github",
        "colab_type": "text"
      },
      "source": [
        "<a href=\"https://colab.research.google.com/github/jagvgithub/LAOM/blob/main/APRENDIZAJE_SUPERVISADO_TEST.ipynb\" target=\"_parent\"><img src=\"https://colab.research.google.com/assets/colab-badge.svg\" alt=\"Open In Colab\"/></a>"
      ]
    },
    {
      "cell_type": "code",
      "execution_count": null,
      "metadata": {
        "id": "5HWSc_4zu8mm"
      },
      "outputs": [],
      "source": [
        "import numpy as np\n",
        "import matplotlib.pyplot as plt\n",
        "from sklearn.neighbors import KNeighborsRegressor\n",
        "\n",
        "# Conjunto de datos\n",
        "data = np.array([\n",
        "    [2.0, 3.0],\n",
        "    [2.0, 4.0],\n",
        "    [2.5, 3.5],\n",
        "    [2.5, 5.0],\n",
        "    [2.75, 2.5],\n",
        "    [3.5, 3.0],\n",
        "    [3.5, 4.0],\n",
        "    [3.0, 4.0],\n",
        "    [3.0, 4.5],\n",
        "    [3.0, 5.5],\n",
        "    [4.0, 5.0],\n",
        "    [4.5, 4.5],\n",
        "    [4.5, 5.5],\n",
        "    [5.0, 2.0],\n",
        "    [5.0, 3.0],\n",
        "    [5.0, 4.0],\n",
        "    [5.0, 5.0],\n",
        "    [5.5, 3.5],\n",
        "    [5.5, 4.5],\n",
        "    [6.0, 5.0],\n",
        "])\n",
        "\n",
        "# Separar las características (X) y la etiqueta (y)\n",
        "X_train = data[:, 0].reshape(-1, 1)  # Atributo X\n",
        "y_train = data[:, 1]  # Etiqueta Y\n",
        "\n",
        "# Nueva muestra para predecir\n",
        "x_new = np.array([[4.0]])\n",
        "\n",
        "# Crear el modelo KNN\n",
        "knn = KNeighborsRegressor(n_neighbors=5, p=1)  # p=1 para la distancia de Minkowski con q=1\n",
        "knn.fit(X_train, y_train)  # Entrenar el modelo\n",
        "\n",
        "# Predecir el valor para la nueva muestra\n",
        "y_pred = knn.predict(x_new)\n",
        "\n",
        "# Imprimir el resultado\n",
        "print(f'La predicción para x1 = 4.0 es: {y_pred[0]}')\n",
        "\n",
        "# Graficar los resultados\n",
        "plt.figure(figsize=(10, 6))\n",
        "plt.scatter(X_train, y_train, color='blue', label='Instancias de entrenamiento')\n",
        "plt.scatter(x_new, y_pred, color='red', label='Nueva muestra (predicción)', marker='x', s=100)\n",
        "\n",
        "# Etiquetas y título\n",
        "plt.title('Gráfico de KNN para Regresión')\n",
        "plt.xlabel('Atributo X')\n",
        "plt.ylabel('Etiqueta Y')\n",
        "plt.axvline(x=x_new[0][0], color='gray', linestyle='--', label='x1 = 4.0')\n",
        "plt.axhline(y=y_pred[0], color='orange', linestyle='--', label=f'y_pred = {y_pred[0]:.2f}')\n",
        "plt.legend()\n",
        "plt.grid()\n",
        "plt.show()\n"
      ]
    }
  ]
}